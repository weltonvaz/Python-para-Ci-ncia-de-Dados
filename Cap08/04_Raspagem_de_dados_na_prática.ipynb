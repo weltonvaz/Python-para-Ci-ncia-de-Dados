{
 "cells": [
  {
   "cell_type": "markdown",
   "metadata": {},
   "source": [
    "___\n",
    "# Capítulo 8 -  Coletando dados na internet com BeautifulSoup\n",
    "## Seção 3 - Raspagem de dados na prática\n",
    "___"
   ]
  },
  {
   "cell_type": "code",
   "execution_count": 1,
   "metadata": {
    "collapsed": true
   },
   "outputs": [],
   "source": [
    "import re\n",
    "\n",
    "from bs4 import BeautifulSoup\n",
    "from requests import get"
   ]
  },
  {
   "cell_type": "code",
   "execution_count": 2,
   "metadata": {},
   "outputs": [
    {
     "data": {
      "text/plain": [
       "bs4.BeautifulSoup"
      ]
     },
     "execution_count": 2,
     "metadata": {},
     "output_type": "execute_result"
    }
   ],
   "source": [
    "r = get('https://pizzadedados.com/')\n",
    "\n",
    "sopa = BeautifulSoup(r.content.decode('utf-8'), \"html.parser\")\n",
    "type(sopa)"
   ]
  },
  {
   "cell_type": "markdown",
   "metadata": {},
   "source": [
    "### Raspando dados"
   ]
  },
  {
   "cell_type": "code",
   "execution_count": 3,
   "metadata": {},
   "outputs": [
    {
     "name": "stdout",
     "output_type": "stream",
     "text": [
      "<!DOCTYPE html>\n",
      "<html lang=\"en\">\n",
      " <head>\n",
      "  <meta charset=\"utf-8\"/>\n",
      "  <meta content=\"IE=edge\" http-eq\n"
     ]
    }
   ],
   "source": [
    "print(sopa.prettify()[:100])"
   ]
  },
  {
   "cell_type": "code",
   "execution_count": 4,
   "metadata": {},
   "outputs": [
    {
     "name": "stdout",
     "output_type": "stream",
     "text": [
      "/cdn-cgi/l/email-protection#a7d7ceddddc6c3c2c3c6c3c8d4e7c0cac6cecb89c4c8ca\n",
      "https://twitter.com/pizzadedados\n",
      "https://fb.com/pizzadedados\n",
      "https://youtube.com/c/pizzadedados\n",
      "https://www.instagram.com/pizzadedados\n",
      "https://github.com/pizzadedados\n",
      "#about\n",
      "#pizzaiolos\n",
      "https://medium.com/pizzadedados\n",
      "https://podcast.pizzadedados.com/\n",
      "#vemcomagente\n",
      "#vemcomagente\n",
      "#about\n",
      "https://leportella.com\n",
      "https://jtemporal.com\n",
      "https://gusrabbit.com\n",
      "https://itunes.apple.com/us/podcast/pizza-de-dados/id1323137071\n",
      "https://open.spotify.com/show/5k0Ei0MSg5BuiHshr43aSg\n",
      "http://feeds.feedburner.com/PizzaDeDados\n",
      "https://apoia.se/pizzadedados\n",
      "https://databootcamp.com.br\n",
      "https://databootcamp.com.br\n",
      "https://github.com/nrandecker\n"
     ]
    }
   ],
   "source": [
    "for link in sopa.find_all('a'):\n",
    "    print(link.get('href'))"
   ]
  },
  {
   "cell_type": "code",
   "execution_count": 5,
   "metadata": {},
   "outputs": [
    {
     "name": "stdout",
     "output_type": "stream",
     "text": [
      "<a aria-label=\"Twitter\" href=\"https://twitter.com/pizzadedados\" target=\"_blank\"><i aria-hidden=\"true\" class=\"icon fa fa-twitter\"></i></a>\n",
      "<a aria-label=\"Facebook\" href=\"https://fb.com/pizzadedados\" target=\"_blank\"><i aria-hidden=\"true\" class=\"icon fa fa-facebook-square\"></i></a>\n",
      "<a aria-label=\"YouTube\" href=\"https://youtube.com/c/pizzadedados\" target=\"_blank\"><i aria-hidden=\"true\" class=\"icon fa fa-youtube-play\"></i></a>\n",
      "<a aria-label=\"Instagram\" href=\"https://www.instagram.com/pizzadedados\" target=\"_blank\"><i aria-hidden=\"true\" class=\"icon fa fa-instagram\"></i></a>\n",
      "<a aria-label=\"Github\" href=\"https://github.com/pizzadedados\" target=\"_blank\"><i aria-hidden=\"true\" class=\"icon fa fa-github-alt\"></i></a>\n",
      "<a class=\"link\" href=\"https://medium.com/pizzadedados\" target=\"_blank\">Revista</a>\n",
      "<a class=\"link\" href=\"https://podcast.pizzadedados.com/\" target=\"_blank\">Episódios</a>\n",
      "<a class=\"project-link\" href=\"https://leportella.com\">Site</a>\n",
      "<a class=\"project-link\" href=\"https://jtemporal.com\">Site</a>\n",
      "<a class=\"project-link\" href=\"https://gusrabbit.com\">Site</a>\n",
      "<a class=\"project-link\" href=\"https://itunes.apple.com/us/podcast/pizza-de-dados/id1323137071\">\n",
      "<i class=\"icon fa fa-podcast\"></i>  iTunes\r\n",
      "        </a>\n",
      "<a class=\"project-link\" href=\"https://open.spotify.com/show/5k0Ei0MSg5BuiHshr43aSg\">\n",
      "<i class=\"icon fa fa-spotify\"></i>  Spotify\r\n",
      "        </a>\n",
      "<a class=\"project-link\" href=\"http://feeds.feedburner.com/PizzaDeDados\">\n",
      "<i class=\"icon fa fa-rss\"></i>  RSS\r\n",
      "        </a>\n",
      "<a class=\"project-link\" href=\"https://apoia.se/pizzadedados\">Para a campanha</a>\n",
      "<a href=\"https://databootcamp.com.br\">Data Bootcamp</a>\n",
      "<a href=\"https://databootcamp.com.br\"><img src=\"https://databootcamp.com.br/static/img/logo.png\" style=\"background: #1f2845;\"/></a>\n",
      "<a href=\"https://github.com/nrandecker\">Nathan Randecker</a>\n"
     ]
    }
   ],
   "source": [
    "parametros_busca = {'href': re.compile(\"^http\")}\n",
    "for link in sopa.find_all('a', attrs=parametros_busca):\n",
    "    print(link)"
   ]
  },
  {
   "cell_type": "code",
   "execution_count": 6,
   "metadata": {},
   "outputs": [
    {
     "name": "stdout",
     "output_type": "stream",
     "text": [
      "https://twitter.com/pizzadedados\n",
      "https://fb.com/pizzadedados\n",
      "https://youtube.com/c/pizzadedados\n",
      "https://www.instagram.com/pizzadedados\n",
      "https://github.com/pizzadedados\n",
      "https://medium.com/pizzadedados\n",
      "https://podcast.pizzadedados.com/\n",
      "https://leportella.com\n",
      "https://jtemporal.com\n",
      "https://gusrabbit.com\n",
      "https://itunes.apple.com/us/podcast/pizza-de-dados/id1323137071\n",
      "https://open.spotify.com/show/5k0Ei0MSg5BuiHshr43aSg\n",
      "http://feeds.feedburner.com/PizzaDeDados\n",
      "https://apoia.se/pizzadedados\n",
      "https://databootcamp.com.br\n",
      "https://databootcamp.com.br\n",
      "https://github.com/nrandecker\n"
     ]
    }
   ],
   "source": [
    "file = open('parsed_data.txt', 'w')\n",
    "for link in sopa.findAll('a', attrs=parametros_busca):\n",
    "    sopa_link = str(link.get('href'))\n",
    "    print(sopa_link)\n",
    "    file.write(sopa_link)\n",
    "    file.write('\\n')\n",
    "file.flush()\n",
    "file.close()"
   ]
  },
  {
   "cell_type": "code",
   "execution_count": 7,
   "metadata": {
    "scrolled": true
   },
   "outputs": [
    {
     "name": "stdout",
     "output_type": "stream",
     "text": [
      " O volume na unidade C ‚ Windows\n",
      " O N£mero de S‚rie do Volume ‚ D81A-313B\n",
      "\n",
      " Pasta de C:\\Users\\booth13-mgr2\\Documents\\Arquivos_de_Exercicio2\\Cap08\n",
      "\n",
      "29/07/2019  23:01    <DIR>          .\n",
      "29/07/2019  23:01    <DIR>          ..\n",
      "29/07/2019  22:42    <DIR>          .ipynb_checkpoints\n",
      "29/07/2019  17:09            13.578 01_Introdu‡Æo_ao_BeautifulSoup.ipynb\n",
      "29/07/2019  22:37            10.428 02_Parseando_dados.ipynb\n",
      "29/07/2019  23:01             8.111 04_Raspagem_de_dados_na_pr tica.ipynb\n",
      "29/07/2019  23:07               591 parsed_data.txt\n",
      "               4 arquivo(s)         32.708 bytes\n",
      "               3 pasta(s)   929.264.709.632 bytes dispon¡veis\n"
     ]
    }
   ],
   "source": [
    "ls"
   ]
  }
 ],
 "metadata": {
  "anaconda-cloud": {},
  "kernelspec": {
   "display_name": "Python 3",
   "language": "python",
   "name": "python3"
  },
  "language_info": {
   "codemirror_mode": {
    "name": "ipython",
    "version": 3
   },
   "file_extension": ".py",
   "mimetype": "text/x-python",
   "name": "python",
   "nbconvert_exporter": "python",
   "pygments_lexer": "ipython3",
   "version": "3.6.2"
  }
 },
 "nbformat": 4,
 "nbformat_minor": 2
}
